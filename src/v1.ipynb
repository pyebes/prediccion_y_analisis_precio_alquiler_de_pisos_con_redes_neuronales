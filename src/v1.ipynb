{
 "cells": [
  {
   "cell_type": "code",
   "execution_count": 570,
   "metadata": {},
   "outputs": [
    {
     "name": "stdout",
     "output_type": "stream",
     "text": [
      "2.16.1\n"
     ]
    }
   ],
   "source": [
    "import tensorflow as tf\n",
    "import pandas as pd\n",
    "\n",
    "print(tf.__version__)\n",
    "\n",
    "pd.set_option('display.max_rows', None)\n",
    "pd.set_option('display.max_columns', None)"
   ]
  },
  {
   "cell_type": "code",
   "execution_count": 571,
   "metadata": {},
   "outputs": [],
   "source": [
    "dataset = pd.read_excel('../data/pisos.xlsx', index_col='ID')"
   ]
  },
  {
   "cell_type": "code",
   "execution_count": 572,
   "metadata": {},
   "outputs": [
    {
     "data": {
      "text/html": [
       "<div>\n",
       "<style scoped>\n",
       "    .dataframe tbody tr th:only-of-type {\n",
       "        vertical-align: middle;\n",
       "    }\n",
       "\n",
       "    .dataframe tbody tr th {\n",
       "        vertical-align: top;\n",
       "    }\n",
       "\n",
       "    .dataframe thead th {\n",
       "        text-align: right;\n",
       "    }\n",
       "</style>\n",
       "<table border=\"1\" class=\"dataframe\">\n",
       "  <thead>\n",
       "    <tr style=\"text-align: right;\">\n",
       "      <th></th>\n",
       "      <th>Planta</th>\n",
       "      <th>Metros cuadrados totales</th>\n",
       "      <th>Metros cuadrados habitables</th>\n",
       "      <th>Numero habitaciones</th>\n",
       "      <th>Numero baños</th>\n",
       "      <th>Estado piso</th>\n",
       "      <th>Amueblado</th>\n",
       "      <th>Zona</th>\n",
       "      <th>Tipo piso</th>\n",
       "      <th>Orientación</th>\n",
       "      <th>Terraza</th>\n",
       "      <th>Aire acondicionado</th>\n",
       "      <th>Urbanización</th>\n",
       "      <th>Piscina en la urbanización</th>\n",
       "      <th>Ascensor</th>\n",
       "      <th>Garaje</th>\n",
       "      <th>Años antigüedad piso</th>\n",
       "      <th>Servicios incluidos</th>\n",
       "      <th>Accesibilidad</th>\n",
       "      <th>Años contrato alquiler</th>\n",
       "      <th>Precio alquiler al año</th>\n",
       "      <th>Gastos generales al año</th>\n",
       "      <th>Gastos iniciales</th>\n",
       "      <th>Beneficios totales</th>\n",
       "    </tr>\n",
       "    <tr>\n",
       "      <th>ID</th>\n",
       "      <th></th>\n",
       "      <th></th>\n",
       "      <th></th>\n",
       "      <th></th>\n",
       "      <th></th>\n",
       "      <th></th>\n",
       "      <th></th>\n",
       "      <th></th>\n",
       "      <th></th>\n",
       "      <th></th>\n",
       "      <th></th>\n",
       "      <th></th>\n",
       "      <th></th>\n",
       "      <th></th>\n",
       "      <th></th>\n",
       "      <th></th>\n",
       "      <th></th>\n",
       "      <th></th>\n",
       "      <th></th>\n",
       "      <th></th>\n",
       "      <th></th>\n",
       "      <th></th>\n",
       "      <th></th>\n",
       "      <th></th>\n",
       "    </tr>\n",
       "  </thead>\n",
       "  <tbody>\n",
       "    <tr>\n",
       "      <th>1</th>\n",
       "      <td>7</td>\n",
       "      <td>87.5</td>\n",
       "      <td>79.4</td>\n",
       "      <td>2</td>\n",
       "      <td>1.0</td>\n",
       "      <td>nuevo</td>\n",
       "      <td>True</td>\n",
       "      <td>Iturrama</td>\n",
       "      <td>piso</td>\n",
       "      <td>NE</td>\n",
       "      <td>True</td>\n",
       "      <td>True</td>\n",
       "      <td>False</td>\n",
       "      <td>False</td>\n",
       "      <td>True</td>\n",
       "      <td>False</td>\n",
       "      <td>1</td>\n",
       "      <td>luz.agua</td>\n",
       "      <td>4</td>\n",
       "      <td>9</td>\n",
       "      <td>14060</td>\n",
       "      <td>1787</td>\n",
       "      <td>220</td>\n",
       "      <td>3196.814</td>\n",
       "    </tr>\n",
       "    <tr>\n",
       "      <th>2</th>\n",
       "      <td>3</td>\n",
       "      <td>71.2</td>\n",
       "      <td>64.3</td>\n",
       "      <td>2</td>\n",
       "      <td>1.5</td>\n",
       "      <td>reformado</td>\n",
       "      <td>True</td>\n",
       "      <td>Ensanche</td>\n",
       "      <td>piso</td>\n",
       "      <td>SE</td>\n",
       "      <td>False</td>\n",
       "      <td>True</td>\n",
       "      <td>True</td>\n",
       "      <td>False</td>\n",
       "      <td>True</td>\n",
       "      <td>True</td>\n",
       "      <td>7</td>\n",
       "      <td>agua.comunidad</td>\n",
       "      <td>5</td>\n",
       "      <td>5</td>\n",
       "      <td>10525</td>\n",
       "      <td>1124</td>\n",
       "      <td>572</td>\n",
       "      <td>6227.500</td>\n",
       "    </tr>\n",
       "    <tr>\n",
       "      <th>3</th>\n",
       "      <td>5</td>\n",
       "      <td>104.6</td>\n",
       "      <td>90.3</td>\n",
       "      <td>3</td>\n",
       "      <td>2.0</td>\n",
       "      <td>buen estado</td>\n",
       "      <td>True</td>\n",
       "      <td>Mendebaldea</td>\n",
       "      <td>piso</td>\n",
       "      <td>W</td>\n",
       "      <td>True</td>\n",
       "      <td>False</td>\n",
       "      <td>False</td>\n",
       "      <td>False</td>\n",
       "      <td>True</td>\n",
       "      <td>True</td>\n",
       "      <td>15</td>\n",
       "      <td>agua.luz.comunidad</td>\n",
       "      <td>3</td>\n",
       "      <td>4</td>\n",
       "      <td>18555</td>\n",
       "      <td>1512</td>\n",
       "      <td>2810</td>\n",
       "      <td>4160.112</td>\n",
       "    </tr>\n",
       "    <tr>\n",
       "      <th>4</th>\n",
       "      <td>13</td>\n",
       "      <td>148.1</td>\n",
       "      <td>143.3</td>\n",
       "      <td>5</td>\n",
       "      <td>2.0</td>\n",
       "      <td>regular estado</td>\n",
       "      <td>True</td>\n",
       "      <td>Mendebaldea</td>\n",
       "      <td>atico</td>\n",
       "      <td>NW</td>\n",
       "      <td>True</td>\n",
       "      <td>True</td>\n",
       "      <td>True</td>\n",
       "      <td>False</td>\n",
       "      <td>True</td>\n",
       "      <td>True</td>\n",
       "      <td>30</td>\n",
       "      <td>luz.agua.comunidad</td>\n",
       "      <td>2</td>\n",
       "      <td>10</td>\n",
       "      <td>24430</td>\n",
       "      <td>2625</td>\n",
       "      <td>7630</td>\n",
       "      <td>20183.590</td>\n",
       "    </tr>\n",
       "    <tr>\n",
       "      <th>5</th>\n",
       "      <td>5</td>\n",
       "      <td>80.8</td>\n",
       "      <td>69.0</td>\n",
       "      <td>2</td>\n",
       "      <td>1.0</td>\n",
       "      <td>buen estado</td>\n",
       "      <td>False</td>\n",
       "      <td>Rochapea</td>\n",
       "      <td>piso</td>\n",
       "      <td>E</td>\n",
       "      <td>False</td>\n",
       "      <td>False</td>\n",
       "      <td>False</td>\n",
       "      <td>False</td>\n",
       "      <td>False</td>\n",
       "      <td>True</td>\n",
       "      <td>10</td>\n",
       "      <td>luz.comunidad</td>\n",
       "      <td>4</td>\n",
       "      <td>10</td>\n",
       "      <td>10565</td>\n",
       "      <td>1134</td>\n",
       "      <td>16440</td>\n",
       "      <td>-8424.920</td>\n",
       "    </tr>\n",
       "  </tbody>\n",
       "</table>\n",
       "</div>"
      ],
      "text/plain": [
       "    Planta  Metros cuadrados totales  Metros cuadrados habitables  \\\n",
       "ID                                                                  \n",
       "1        7                      87.5                         79.4   \n",
       "2        3                      71.2                         64.3   \n",
       "3        5                     104.6                         90.3   \n",
       "4       13                     148.1                        143.3   \n",
       "5        5                      80.8                         69.0   \n",
       "\n",
       "    Numero habitaciones  Numero baños     Estado piso  Amueblado         Zona  \\\n",
       "ID                                                                              \n",
       "1                     2           1.0           nuevo       True     Iturrama   \n",
       "2                     2           1.5       reformado       True     Ensanche   \n",
       "3                     3           2.0     buen estado       True  Mendebaldea   \n",
       "4                     5           2.0  regular estado       True  Mendebaldea   \n",
       "5                     2           1.0     buen estado      False     Rochapea   \n",
       "\n",
       "   Tipo piso Orientación  Terraza  Aire acondicionado  Urbanización  \\\n",
       "ID                                                                    \n",
       "1       piso          NE     True                True         False   \n",
       "2       piso          SE    False                True          True   \n",
       "3       piso           W     True               False         False   \n",
       "4      atico          NW     True                True          True   \n",
       "5       piso           E    False               False         False   \n",
       "\n",
       "    Piscina en la urbanización  Ascensor  Garaje  Años antigüedad piso  \\\n",
       "ID                                                                       \n",
       "1                        False      True   False                     1   \n",
       "2                        False      True    True                     7   \n",
       "3                        False      True    True                    15   \n",
       "4                        False      True    True                    30   \n",
       "5                        False     False    True                    10   \n",
       "\n",
       "   Servicios incluidos  Accesibilidad  Años contrato alquiler  \\\n",
       "ID                                                              \n",
       "1             luz.agua              4                       9   \n",
       "2       agua.comunidad              5                       5   \n",
       "3   agua.luz.comunidad              3                       4   \n",
       "4   luz.agua.comunidad              2                      10   \n",
       "5        luz.comunidad              4                      10   \n",
       "\n",
       "    Precio alquiler al año  Gastos generales al año  Gastos iniciales  \\\n",
       "ID                                                                      \n",
       "1                    14060                     1787               220   \n",
       "2                    10525                     1124               572   \n",
       "3                    18555                     1512              2810   \n",
       "4                    24430                     2625              7630   \n",
       "5                    10565                     1134             16440   \n",
       "\n",
       "    Beneficios totales  \n",
       "ID                      \n",
       "1             3196.814  \n",
       "2             6227.500  \n",
       "3             4160.112  \n",
       "4            20183.590  \n",
       "5            -8424.920  "
      ]
     },
     "execution_count": 572,
     "metadata": {},
     "output_type": "execute_result"
    }
   ],
   "source": [
    "dataset.head(5)"
   ]
  },
  {
   "cell_type": "code",
   "execution_count": 573,
   "metadata": {},
   "outputs": [
    {
     "data": {
      "text/plain": [
       "(180, 24)"
      ]
     },
     "execution_count": 573,
     "metadata": {},
     "output_type": "execute_result"
    }
   ],
   "source": [
    "dataset.shape"
   ]
  },
  {
   "cell_type": "markdown",
   "metadata": {},
   "source": [
    "---\n",
    "---\n",
    "En primer lugar añadimos una nueva columna al final del dataset del precio al que se alquila el piso siguiendo el siguiente criterio:\n",
    "\n",
    "'Precio alquiler aplicado al año' = ('Beneficios' + 'Precio alquiler al año' * 'Años contrato alquiler' + \n",
    "'Gastos generales al año' * 'Años contrato alquiler' + 'Gastos iniciales') / 'Años contrato alquiler'\n",
    "\n",
    "Realizamos esto en primer lugar para poder representar graficamente la relación de algunas de las variables numéricas que consideremos importantes. \n",
    "\n",
    "Este 'Precio aplicado de alquiler al año' va a ser el que va a intentar predecir nuestra red neuronal"
   ]
  },
  {
   "cell_type": "code",
   "execution_count": 574,
   "metadata": {},
   "outputs": [],
   "source": [
    "def calc_precio_aplicado_año(row):\n",
    "    alq = row['Precio alquiler al año']\n",
    "    gast = row['Gastos generales al año']\n",
    "    gast_o = row['Gastos iniciales']\n",
    "    anos = row['Años contrato alquiler']\n",
    "    beneficios = row['Beneficios totales']\n",
    "\n",
    "    return (beneficios + alq * anos + gast * anos + gast_o) / anos"
   ]
  },
  {
   "cell_type": "code",
   "execution_count": 575,
   "metadata": {},
   "outputs": [],
   "source": [
    "dataset['Precio alquiler aplicado al año'] = dataset.apply(calc_precio_aplicado_año, axis=1)"
   ]
  },
  {
   "cell_type": "code",
   "execution_count": 576,
   "metadata": {},
   "outputs": [
    {
     "data": {
      "text/plain": [
       "ID\n",
       "1    16226.646\n",
       "2    13008.900\n",
       "3    21809.528\n",
       "4    29836.359\n",
       "5    12500.508\n",
       "Name: Precio alquiler aplicado al año, dtype: float64"
      ]
     },
     "execution_count": 576,
     "metadata": {},
     "output_type": "execute_result"
    }
   ],
   "source": [
    "dataset['Precio alquiler aplicado al año'].head()"
   ]
  },
  {
   "cell_type": "markdown",
   "metadata": {},
   "source": [
    "---\n",
    "---\n",
    "# 1) Vamos a ir viendo el tipo de cada característica y transformandola para una mejor interpretación"
   ]
  },
  {
   "cell_type": "code",
   "execution_count": 577,
   "metadata": {},
   "outputs": [
    {
     "name": "stdout",
     "output_type": "stream",
     "text": [
      "<class 'pandas.core.frame.DataFrame'>\n",
      "Index: 180 entries, 1 to 180\n",
      "Data columns (total 25 columns):\n",
      " #   Column                           Non-Null Count  Dtype  \n",
      "---  ------                           --------------  -----  \n",
      " 0   Planta                           180 non-null    int64  \n",
      " 1   Metros cuadrados totales         180 non-null    float64\n",
      " 2   Metros cuadrados habitables      180 non-null    float64\n",
      " 3   Numero habitaciones              180 non-null    int64  \n",
      " 4   Numero baños                     180 non-null    float64\n",
      " 5   Estado piso                      180 non-null    object \n",
      " 6   Amueblado                        180 non-null    bool   \n",
      " 7   Zona                             180 non-null    object \n",
      " 8   Tipo piso                        180 non-null    object \n",
      " 9   Orientación                      180 non-null    object \n",
      " 10  Terraza                          180 non-null    bool   \n",
      " 11  Aire acondicionado               180 non-null    bool   \n",
      " 12  Urbanización                     180 non-null    bool   \n",
      " 13  Piscina en la urbanización       180 non-null    bool   \n",
      " 14  Ascensor                         180 non-null    bool   \n",
      " 15  Garaje                           180 non-null    bool   \n",
      " 16  Años antigüedad piso             180 non-null    int64  \n",
      " 17  Servicios incluidos              67 non-null     object \n",
      " 18  Accesibilidad                    180 non-null    int64  \n",
      " 19  Años contrato alquiler           180 non-null    int64  \n",
      " 20  Precio alquiler al año           180 non-null    int64  \n",
      " 21  Gastos generales al año          180 non-null    int64  \n",
      " 22  Gastos iniciales                 180 non-null    int64  \n",
      " 23  Beneficios totales               180 non-null    float64\n",
      " 24  Precio alquiler aplicado al año  180 non-null    float64\n",
      "dtypes: bool(7), float64(5), int64(8), object(5)\n",
      "memory usage: 27.9+ KB\n"
     ]
    }
   ],
   "source": [
    "dataset.info()"
   ]
  },
  {
   "cell_type": "markdown",
   "metadata": {},
   "source": [
    "0) ID: int\n",
    "\n",
    "Lo usamos como ID del DataFrame"
   ]
  },
  {
   "cell_type": "markdown",
   "metadata": {},
   "source": [
    "1) Planta: int"
   ]
  },
  {
   "cell_type": "code",
   "execution_count": 578,
   "metadata": {},
   "outputs": [
    {
     "data": {
      "text/plain": [
       "Planta\n",
       "3     32\n",
       "1     28\n",
       "2     24\n",
       "7     18\n",
       "6     16\n",
       "4     16\n",
       "8     14\n",
       "0     11\n",
       "5      9\n",
       "12     5\n",
       "9      2\n",
       "10     2\n",
       "11     2\n",
       "13     1\n",
       "Name: count, dtype: int64"
      ]
     },
     "execution_count": 578,
     "metadata": {},
     "output_type": "execute_result"
    }
   ],
   "source": [
    "dataset['Planta'].value_counts()"
   ]
  },
  {
   "cell_type": "markdown",
   "metadata": {},
   "source": [
    "2) Metros cuadrados totales: float"
   ]
  },
  {
   "cell_type": "code",
   "execution_count": 579,
   "metadata": {},
   "outputs": [
    {
     "name": "stdout",
     "output_type": "stream",
     "text": [
      "71.2\n",
      "205.0\n"
     ]
    }
   ],
   "source": [
    "print(dataset['Metros cuadrados totales'].min())\n",
    "print(dataset['Metros cuadrados totales'].max())"
   ]
  },
  {
   "cell_type": "markdown",
   "metadata": {},
   "source": [
    "3) Metros cuadrados habitables: float"
   ]
  },
  {
   "cell_type": "code",
   "execution_count": 580,
   "metadata": {},
   "outputs": [
    {
     "name": "stdout",
     "output_type": "stream",
     "text": [
      "64.3\n",
      "184.9\n"
     ]
    }
   ],
   "source": [
    "print(dataset['Metros cuadrados habitables'].min())\n",
    "print(dataset['Metros cuadrados habitables'].max())"
   ]
  },
  {
   "cell_type": "markdown",
   "metadata": {},
   "source": [
    "4) Numero habitaciones: int"
   ]
  },
  {
   "cell_type": "code",
   "execution_count": 581,
   "metadata": {},
   "outputs": [
    {
     "data": {
      "text/plain": [
       "Numero habitaciones\n",
       "3    60\n",
       "4    44\n",
       "2    40\n",
       "5    36\n",
       "Name: count, dtype: int64"
      ]
     },
     "execution_count": 581,
     "metadata": {},
     "output_type": "execute_result"
    }
   ],
   "source": [
    "dataset['Numero habitaciones'].value_counts()"
   ]
  },
  {
   "cell_type": "markdown",
   "metadata": {},
   "source": [
    "5) Numero baños (puntúa 0.5 un baño sin ducha): float"
   ]
  },
  {
   "cell_type": "code",
   "execution_count": 582,
   "metadata": {},
   "outputs": [
    {
     "data": {
      "text/plain": [
       "Numero baños\n",
       "2.0    74\n",
       "1.0    39\n",
       "1.5    34\n",
       "3.0    17\n",
       "2.5    16\n",
       "Name: count, dtype: int64"
      ]
     },
     "execution_count": 582,
     "metadata": {},
     "output_type": "execute_result"
    }
   ],
   "source": [
    "dataset['Numero baños'].value_counts()"
   ]
  },
  {
   "cell_type": "markdown",
   "metadata": {},
   "source": [
    "6) Estado piso: {'nuevo', 'reformado', 'buen estado', 'regular estado'}\n",
    "\n",
    "Tenemos dos opciones:\n",
    "    \n",
    "a) Transformamos cada categoría en un entero, en nuestro caso ordenado de mejor a peor estado siendo: \n",
    "    \n",
    "    nuevo: 4\n",
    "    reformado: 3\n",
    "    buen estado: 2\n",
    "    regular estado: 1\n",
    "\n",
    "b) Aplicamos one-hot encoding añadiendo 4 nuevas columnas, una por cada categoría, y escribiendo un 1 cuando coincida la categoría y 0 en caso contrario. Además hay que eliminar la columna 'Estado piso'\n",
    "\n",
    "-> Empezaremos aplicando la primera opción usando la función map"
   ]
  },
  {
   "cell_type": "code",
   "execution_count": 583,
   "metadata": {},
   "outputs": [
    {
     "data": {
      "text/plain": [
       "Estado piso\n",
       "buen estado       88\n",
       "regular estado    41\n",
       "reformado         31\n",
       "nuevo             20\n",
       "Name: count, dtype: int64"
      ]
     },
     "execution_count": 583,
     "metadata": {},
     "output_type": "execute_result"
    }
   ],
   "source": [
    "dataset['Estado piso'].value_counts()"
   ]
  },
  {
   "cell_type": "code",
   "execution_count": 584,
   "metadata": {},
   "outputs": [],
   "source": [
    "def puntuar_estado_piso(x):\n",
    "    if x == 'nuevo':\n",
    "        return 4\n",
    "    elif x == 'reformado':\n",
    "        return 3\n",
    "    elif x == 'buen estado':\n",
    "        return 2\n",
    "    else:\n",
    "        return 1"
   ]
  },
  {
   "cell_type": "code",
   "execution_count": 585,
   "metadata": {},
   "outputs": [],
   "source": [
    "dataset['Estado piso'] = dataset['Estado piso'].map(puntuar_estado_piso)"
   ]
  },
  {
   "cell_type": "code",
   "execution_count": 586,
   "metadata": {},
   "outputs": [
    {
     "data": {
      "text/plain": [
       "Estado piso\n",
       "2    88\n",
       "1    41\n",
       "3    31\n",
       "4    20\n",
       "Name: count, dtype: int64"
      ]
     },
     "execution_count": 586,
     "metadata": {},
     "output_type": "execute_result"
    }
   ],
   "source": [
    "dataset['Estado piso'].value_counts()"
   ]
  },
  {
   "cell_type": "markdown",
   "metadata": {},
   "source": [
    "7) Amueblado: boolean\n",
    "\n",
    "Transformamos el boolean con el siguiente criterio para un mejor manejo de los valores al ser numéricos:\n",
    "\n",
    "    True: 1\n",
    "    False: 0"
   ]
  },
  {
   "cell_type": "code",
   "execution_count": 587,
   "metadata": {},
   "outputs": [
    {
     "data": {
      "text/plain": [
       "Amueblado\n",
       "True     137\n",
       "False     43\n",
       "Name: count, dtype: int64"
      ]
     },
     "execution_count": 587,
     "metadata": {},
     "output_type": "execute_result"
    }
   ],
   "source": [
    "dataset['Amueblado'].value_counts()"
   ]
  },
  {
   "cell_type": "code",
   "execution_count": 588,
   "metadata": {},
   "outputs": [],
   "source": [
    "def codif_boolean(x):\n",
    "    if x == True:\n",
    "        return 1\n",
    "    else:\n",
    "        return 0"
   ]
  },
  {
   "cell_type": "code",
   "execution_count": 589,
   "metadata": {},
   "outputs": [],
   "source": [
    "dataset['Amueblado'] = dataset['Amueblado'].map(codif_boolean)"
   ]
  },
  {
   "cell_type": "code",
   "execution_count": 590,
   "metadata": {},
   "outputs": [
    {
     "data": {
      "text/plain": [
       "Amueblado\n",
       "1    137\n",
       "0     43\n",
       "Name: count, dtype: int64"
      ]
     },
     "execution_count": 590,
     "metadata": {},
     "output_type": "execute_result"
    }
   ],
   "source": [
    "dataset['Amueblado'].value_counts()"
   ]
  },
  {
   "cell_type": "code",
   "execution_count": 591,
   "metadata": {},
   "outputs": [
    {
     "name": "stdout",
     "output_type": "stream",
     "text": [
      "<class 'pandas.core.frame.DataFrame'>\n",
      "Index: 180 entries, 1 to 180\n",
      "Data columns (total 25 columns):\n",
      " #   Column                           Non-Null Count  Dtype  \n",
      "---  ------                           --------------  -----  \n",
      " 0   Planta                           180 non-null    int64  \n",
      " 1   Metros cuadrados totales         180 non-null    float64\n",
      " 2   Metros cuadrados habitables      180 non-null    float64\n",
      " 3   Numero habitaciones              180 non-null    int64  \n",
      " 4   Numero baños                     180 non-null    float64\n",
      " 5   Estado piso                      180 non-null    int64  \n",
      " 6   Amueblado                        180 non-null    int64  \n",
      " 7   Zona                             180 non-null    object \n",
      " 8   Tipo piso                        180 non-null    object \n",
      " 9   Orientación                      180 non-null    object \n",
      " 10  Terraza                          180 non-null    bool   \n",
      " 11  Aire acondicionado               180 non-null    bool   \n",
      " 12  Urbanización                     180 non-null    bool   \n",
      " 13  Piscina en la urbanización       180 non-null    bool   \n",
      " 14  Ascensor                         180 non-null    bool   \n",
      " 15  Garaje                           180 non-null    bool   \n",
      " 16  Años antigüedad piso             180 non-null    int64  \n",
      " 17  Servicios incluidos              67 non-null     object \n",
      " 18  Accesibilidad                    180 non-null    int64  \n",
      " 19  Años contrato alquiler           180 non-null    int64  \n",
      " 20  Precio alquiler al año           180 non-null    int64  \n",
      " 21  Gastos generales al año          180 non-null    int64  \n",
      " 22  Gastos iniciales                 180 non-null    int64  \n",
      " 23  Beneficios totales               180 non-null    float64\n",
      " 24  Precio alquiler aplicado al año  180 non-null    float64\n",
      "dtypes: bool(6), float64(5), int64(10), object(4)\n",
      "memory usage: 29.2+ KB\n"
     ]
    }
   ],
   "source": [
    "dataset.info()"
   ]
  },
  {
   "cell_type": "markdown",
   "metadata": {},
   "source": [
    "---\n",
    "8) Zona: {'Casco viejo', 'Iturrama', 'Ensanche', 'Mendebaldea', 'Rochapea'}\n",
    "\n",
    "Como en nuestro caso no tenemos información tan clara para concluir que zona es mejor a la otra numericamente vamos a aplicar one-hot enconding"
   ]
  },
  {
   "cell_type": "code",
   "execution_count": 592,
   "metadata": {},
   "outputs": [
    {
     "data": {
      "text/plain": [
       "Zona\n",
       "Mendebaldea    45\n",
       "Iturrama       40\n",
       "Ensanche       38\n",
       "Casco viejo    29\n",
       "Rochapea       28\n",
       "Name: count, dtype: int64"
      ]
     },
     "execution_count": 592,
     "metadata": {},
     "output_type": "execute_result"
    }
   ],
   "source": [
    "dataset['Zona'].value_counts()"
   ]
  },
  {
   "cell_type": "code",
   "execution_count": 593,
   "metadata": {},
   "outputs": [],
   "source": [
    "one_hot_encoded = pd.get_dummies(dataset['Zona'])\n",
    "\n",
    "zona_dataset = one_hot_encoded.map(codif_boolean)\n",
    "\n",
    "dataset = pd.concat([dataset, zona_dataset], axis=1)\n",
    "\n",
    "dataset = dataset.drop('Zona', axis=1)"
   ]
  },
  {
   "cell_type": "code",
   "execution_count": 594,
   "metadata": {},
   "outputs": [
    {
     "name": "stdout",
     "output_type": "stream",
     "text": [
      "Casco viejo  Iturrama  Ensanche  Mendebaldea  Rochapea\n",
      "0            0         0         1            0           45\n",
      "             1         0         0            0           40\n",
      "             0         1         0            0           38\n",
      "1            0         0         0            0           29\n",
      "0            0         0         0            1           28\n",
      "Name: count, dtype: int64\n"
     ]
    }
   ],
   "source": [
    "print(dataset[['Casco viejo', 'Iturrama', 'Ensanche', 'Mendebaldea', 'Rochapea']].value_counts())"
   ]
  },
  {
   "cell_type": "markdown",
   "metadata": {},
   "source": [
    "---\n",
    "9) Tipo piso: {'piso', 'atico'}\n",
    "\n",
    "Como distinguimos entre dos tipos de piso usaremos una sola columna con los siguientes valores:\n",
    "\n",
    "    1: 'piso'\n",
    "    0: 'atico'"
   ]
  },
  {
   "cell_type": "code",
   "execution_count": 595,
   "metadata": {},
   "outputs": [
    {
     "data": {
      "text/plain": [
       "Tipo piso\n",
       "piso     172\n",
       "atico      8\n",
       "Name: count, dtype: int64"
      ]
     },
     "execution_count": 595,
     "metadata": {},
     "output_type": "execute_result"
    }
   ],
   "source": [
    "dataset['Tipo piso'].value_counts()"
   ]
  },
  {
   "cell_type": "code",
   "execution_count": 596,
   "metadata": {},
   "outputs": [],
   "source": [
    "def piso_atico(x):\n",
    "    if x == 'piso':\n",
    "        return 1\n",
    "    else:\n",
    "        return 0"
   ]
  },
  {
   "cell_type": "code",
   "execution_count": 597,
   "metadata": {},
   "outputs": [],
   "source": [
    "dataset['Piso'] = dataset['Tipo piso'].map(piso_atico)\n",
    "dataset = dataset.drop('Tipo piso', axis=1)"
   ]
  },
  {
   "cell_type": "code",
   "execution_count": 598,
   "metadata": {},
   "outputs": [
    {
     "data": {
      "text/plain": [
       "Piso\n",
       "1    172\n",
       "0      8\n",
       "Name: count, dtype: int64"
      ]
     },
     "execution_count": 598,
     "metadata": {},
     "output_type": "execute_result"
    }
   ],
   "source": [
    "dataset['Piso'].value_counts()"
   ]
  },
  {
   "cell_type": "markdown",
   "metadata": {},
   "source": [
    "---\n",
    "10) Orientación: uno o dos de los siguientes valores: {'N', 'S', 'E', 'W'}"
   ]
  },
  {
   "cell_type": "code",
   "execution_count": 599,
   "metadata": {},
   "outputs": [
    {
     "data": {
      "text/plain": [
       "Orientación\n",
       "E     54\n",
       "N     26\n",
       "NE    22\n",
       "SE    22\n",
       "SW    20\n",
       "W     18\n",
       "NW    17\n",
       "S      1\n",
       "Name: count, dtype: int64"
      ]
     },
     "execution_count": 599,
     "metadata": {},
     "output_type": "execute_result"
    }
   ],
   "source": [
    "dataset['Orientación'].value_counts()"
   ]
  },
  {
   "cell_type": "code",
   "execution_count": 600,
   "metadata": {},
   "outputs": [],
   "source": [
    "opciones = ['N', 'S', 'E', 'W']\n",
    "\n",
    "for opc in opciones:\n",
    "    dataset[opc] = dataset['Orientación'].map(lambda x: 1 if opc in x else 0)"
   ]
  },
  {
   "cell_type": "code",
   "execution_count": 601,
   "metadata": {},
   "outputs": [],
   "source": [
    "dataset = dataset.drop('Orientación', axis=1)"
   ]
  },
  {
   "cell_type": "code",
   "execution_count": 602,
   "metadata": {},
   "outputs": [
    {
     "data": {
      "text/plain": [
       "N  S  E  W\n",
       "0  0  1  0    54\n",
       "1  0  0  0    26\n",
       "0  1  1  0    22\n",
       "1  0  1  0    22\n",
       "0  1  0  1    20\n",
       "   0  0  1    18\n",
       "1  0  0  1    17\n",
       "0  1  0  0     1\n",
       "Name: count, dtype: int64"
      ]
     },
     "execution_count": 602,
     "metadata": {},
     "output_type": "execute_result"
    }
   ],
   "source": [
    "dataset[['N', 'S', 'E', 'W']].value_counts()"
   ]
  },
  {
   "cell_type": "markdown",
   "metadata": {},
   "source": [
    "---\n",
    "11) Terraza: boolean\n",
    "\n",
    "Transformamos el boolean con el siguiente criterio para un mejor manejo de los valores al ser numéricos:\n",
    "\n",
    "    True: 1\n",
    "    False: 0"
   ]
  },
  {
   "cell_type": "code",
   "execution_count": 603,
   "metadata": {},
   "outputs": [
    {
     "data": {
      "text/plain": [
       "Terraza\n",
       "False    98\n",
       "True     82\n",
       "Name: count, dtype: int64"
      ]
     },
     "execution_count": 603,
     "metadata": {},
     "output_type": "execute_result"
    }
   ],
   "source": [
    "dataset['Terraza'].value_counts()"
   ]
  },
  {
   "cell_type": "code",
   "execution_count": 604,
   "metadata": {},
   "outputs": [],
   "source": [
    "dataset['Terraza'] = dataset['Terraza'].map(codif_boolean)"
   ]
  },
  {
   "cell_type": "code",
   "execution_count": 605,
   "metadata": {},
   "outputs": [
    {
     "data": {
      "text/plain": [
       "Terraza\n",
       "0    98\n",
       "1    82\n",
       "Name: count, dtype: int64"
      ]
     },
     "execution_count": 605,
     "metadata": {},
     "output_type": "execute_result"
    }
   ],
   "source": [
    "dataset['Terraza'].value_counts()"
   ]
  },
  {
   "cell_type": "markdown",
   "metadata": {},
   "source": [
    "---\n",
    "12) Aire acondicionado: boolean\n",
    "\n",
    "Transformamos el boolean con el siguiente criterio para un mejor manejo de los valores al ser numéricos:\n",
    "\n",
    "    True: 1\n",
    "    False: 0"
   ]
  },
  {
   "cell_type": "code",
   "execution_count": 606,
   "metadata": {},
   "outputs": [
    {
     "data": {
      "text/plain": [
       "Aire acondicionado\n",
       "True     109\n",
       "False     71\n",
       "Name: count, dtype: int64"
      ]
     },
     "execution_count": 606,
     "metadata": {},
     "output_type": "execute_result"
    }
   ],
   "source": [
    "dataset['Aire acondicionado'].value_counts()"
   ]
  },
  {
   "cell_type": "code",
   "execution_count": 607,
   "metadata": {},
   "outputs": [],
   "source": [
    "dataset['Aire acondicionado'] = dataset['Aire acondicionado'].map(codif_boolean)"
   ]
  },
  {
   "cell_type": "code",
   "execution_count": 608,
   "metadata": {},
   "outputs": [
    {
     "data": {
      "text/plain": [
       "Aire acondicionado\n",
       "1    109\n",
       "0     71\n",
       "Name: count, dtype: int64"
      ]
     },
     "execution_count": 608,
     "metadata": {},
     "output_type": "execute_result"
    }
   ],
   "source": [
    "dataset['Aire acondicionado'].value_counts()"
   ]
  },
  {
   "cell_type": "markdown",
   "metadata": {},
   "source": [
    "---\n",
    "13) Urbanización: boolean\n",
    "\n",
    "Transformamos el boolean con el siguiente criterio para un mejor manejo de los valores al ser numéricos:\n",
    "\n",
    "    True: 1\n",
    "    False: 0"
   ]
  },
  {
   "cell_type": "code",
   "execution_count": 609,
   "metadata": {},
   "outputs": [
    {
     "data": {
      "text/plain": [
       "Urbanización\n",
       "False    123\n",
       "True      57\n",
       "Name: count, dtype: int64"
      ]
     },
     "execution_count": 609,
     "metadata": {},
     "output_type": "execute_result"
    }
   ],
   "source": [
    "dataset['Urbanización'].value_counts()"
   ]
  },
  {
   "cell_type": "code",
   "execution_count": 610,
   "metadata": {},
   "outputs": [],
   "source": [
    "dataset['Urbanización'] = dataset['Urbanización'].map(codif_boolean)"
   ]
  },
  {
   "cell_type": "code",
   "execution_count": 611,
   "metadata": {},
   "outputs": [
    {
     "data": {
      "text/plain": [
       "Urbanización\n",
       "0    123\n",
       "1     57\n",
       "Name: count, dtype: int64"
      ]
     },
     "execution_count": 611,
     "metadata": {},
     "output_type": "execute_result"
    }
   ],
   "source": [
    "dataset['Urbanización'].value_counts()"
   ]
  },
  {
   "cell_type": "markdown",
   "metadata": {},
   "source": [
    "---\n",
    "14) Piscina: boolean\n",
    "\n",
    "Transformamos el boolean con el siguiente criterio para un mejor manejo de los valores al ser numéricos:\n",
    "\n",
    "    True: 1\n",
    "    False: 0"
   ]
  },
  {
   "cell_type": "code",
   "execution_count": 612,
   "metadata": {},
   "outputs": [
    {
     "data": {
      "text/plain": [
       "Piscina en la urbanización\n",
       "False    160\n",
       "True      20\n",
       "Name: count, dtype: int64"
      ]
     },
     "execution_count": 612,
     "metadata": {},
     "output_type": "execute_result"
    }
   ],
   "source": [
    "dataset['Piscina en la urbanización'].value_counts()"
   ]
  },
  {
   "cell_type": "code",
   "execution_count": 613,
   "metadata": {},
   "outputs": [],
   "source": [
    "dataset['Piscina en la urbanización'] = dataset['Piscina en la urbanización'].map(codif_boolean)"
   ]
  },
  {
   "cell_type": "code",
   "execution_count": 614,
   "metadata": {},
   "outputs": [
    {
     "data": {
      "text/plain": [
       "Piscina en la urbanización\n",
       "0    160\n",
       "1     20\n",
       "Name: count, dtype: int64"
      ]
     },
     "execution_count": 614,
     "metadata": {},
     "output_type": "execute_result"
    }
   ],
   "source": [
    "dataset['Piscina en la urbanización'].value_counts()"
   ]
  },
  {
   "cell_type": "markdown",
   "metadata": {},
   "source": [
    "---\n",
    "15) Ascensor: boolean\n",
    "\n",
    "Transformamos el boolean con el siguiente criterio para un mejor manejo de los valores al ser numéricos:\n",
    "\n",
    "    True: 1\n",
    "    False: 0"
   ]
  },
  {
   "cell_type": "code",
   "execution_count": 615,
   "metadata": {},
   "outputs": [
    {
     "data": {
      "text/plain": [
       "Ascensor\n",
       "True     147\n",
       "False     33\n",
       "Name: count, dtype: int64"
      ]
     },
     "execution_count": 615,
     "metadata": {},
     "output_type": "execute_result"
    }
   ],
   "source": [
    "dataset['Ascensor'].value_counts()"
   ]
  },
  {
   "cell_type": "code",
   "execution_count": 616,
   "metadata": {},
   "outputs": [],
   "source": [
    "dataset['Ascensor'] = dataset['Ascensor'].map(codif_boolean)"
   ]
  },
  {
   "cell_type": "code",
   "execution_count": 617,
   "metadata": {},
   "outputs": [
    {
     "data": {
      "text/plain": [
       "Ascensor\n",
       "1    147\n",
       "0     33\n",
       "Name: count, dtype: int64"
      ]
     },
     "execution_count": 617,
     "metadata": {},
     "output_type": "execute_result"
    }
   ],
   "source": [
    "dataset['Ascensor'].value_counts()"
   ]
  },
  {
   "cell_type": "markdown",
   "metadata": {},
   "source": [
    "---\n",
    "16) Garaje: boolean\n",
    "\n",
    "Transformamos el boolean con el siguiente criterio para un mejor manejo de los valores al ser numéricos:\n",
    "\n",
    "    True: 1\n",
    "    False: 0"
   ]
  },
  {
   "cell_type": "code",
   "execution_count": 618,
   "metadata": {},
   "outputs": [
    {
     "data": {
      "text/plain": [
       "Garaje\n",
       "False    112\n",
       "True      68\n",
       "Name: count, dtype: int64"
      ]
     },
     "execution_count": 618,
     "metadata": {},
     "output_type": "execute_result"
    }
   ],
   "source": [
    "dataset['Garaje'].value_counts()"
   ]
  },
  {
   "cell_type": "code",
   "execution_count": 619,
   "metadata": {},
   "outputs": [],
   "source": [
    "dataset['Garaje'] = dataset['Garaje'].map(codif_boolean)"
   ]
  },
  {
   "cell_type": "code",
   "execution_count": 620,
   "metadata": {},
   "outputs": [
    {
     "data": {
      "text/plain": [
       "Garaje\n",
       "0    112\n",
       "1     68\n",
       "Name: count, dtype: int64"
      ]
     },
     "execution_count": 620,
     "metadata": {},
     "output_type": "execute_result"
    }
   ],
   "source": [
    "dataset['Garaje'].value_counts()"
   ]
  },
  {
   "cell_type": "markdown",
   "metadata": {},
   "source": [
    "---\n",
    "17) Años antigüedad piso: int"
   ]
  },
  {
   "cell_type": "code",
   "execution_count": 621,
   "metadata": {},
   "outputs": [
    {
     "data": {
      "text/plain": [
       "Años antigüedad piso\n",
       "8     34\n",
       "3     31\n",
       "10    20\n",
       "4     20\n",
       "6     18\n",
       "9     17\n",
       "12    16\n",
       "5     10\n",
       "2      6\n",
       "1      4\n",
       "7      1\n",
       "15     1\n",
       "30     1\n",
       "25     1\n",
       "Name: count, dtype: int64"
      ]
     },
     "execution_count": 621,
     "metadata": {},
     "output_type": "execute_result"
    }
   ],
   "source": [
    "dataset['Años antigüedad piso'].value_counts()"
   ]
  },
  {
   "cell_type": "markdown",
   "metadata": {},
   "source": [
    "---\n",
    "18) Servicios incluidos: ninguna, una o varias de las siguientes separadas por puntos: {'luz', 'agua', 'comunidad', 'calefaccion', 'internet'}\n",
    "\n",
    "Añadiremos una columna nueva para cada servicio, marcando 1 si está incluido y 0 en casa contrario\n",
    "\n",
    "Como en ningun piso está incluido el internet eliminamos esa opcion"
   ]
  },
  {
   "cell_type": "code",
   "execution_count": 622,
   "metadata": {},
   "outputs": [
    {
     "data": {
      "text/plain": [
       "Servicios incluidos\n",
       "agua.comunidad        35\n",
       "agua.calefaccion      15\n",
       "luz.comunidad         11\n",
       "agua.luz.comunidad     3\n",
       "luz.agua               1\n",
       "luz.agua.comunidad     1\n",
       "agua                   1\n",
       "Name: count, dtype: int64"
      ]
     },
     "execution_count": 622,
     "metadata": {},
     "output_type": "execute_result"
    }
   ],
   "source": [
    "dataset['Servicios incluidos'].value_counts()"
   ]
  },
  {
   "cell_type": "code",
   "execution_count": 623,
   "metadata": {},
   "outputs": [],
   "source": [
    "dataset['Servicios incluidos'] = dataset['Servicios incluidos'].fillna(0)"
   ]
  },
  {
   "cell_type": "code",
   "execution_count": 624,
   "metadata": {},
   "outputs": [],
   "source": [
    "opciones = ['luz', 'agua', 'comunidad', 'calefaccion']\n",
    "\n",
    "for opc in opciones:\n",
    "    dataset[opc.capitalize()] = dataset['Servicios incluidos'].map(lambda x: 1 if x!=0 and opc in x.split('.') else 0)"
   ]
  },
  {
   "cell_type": "code",
   "execution_count": 625,
   "metadata": {},
   "outputs": [
    {
     "data": {
      "text/html": [
       "<div>\n",
       "<style scoped>\n",
       "    .dataframe tbody tr th:only-of-type {\n",
       "        vertical-align: middle;\n",
       "    }\n",
       "\n",
       "    .dataframe tbody tr th {\n",
       "        vertical-align: top;\n",
       "    }\n",
       "\n",
       "    .dataframe thead th {\n",
       "        text-align: right;\n",
       "    }\n",
       "</style>\n",
       "<table border=\"1\" class=\"dataframe\">\n",
       "  <thead>\n",
       "    <tr style=\"text-align: right;\">\n",
       "      <th></th>\n",
       "      <th>Planta</th>\n",
       "      <th>Metros cuadrados totales</th>\n",
       "      <th>Metros cuadrados habitables</th>\n",
       "      <th>Numero habitaciones</th>\n",
       "      <th>Numero baños</th>\n",
       "      <th>Estado piso</th>\n",
       "      <th>Amueblado</th>\n",
       "      <th>Terraza</th>\n",
       "      <th>Aire acondicionado</th>\n",
       "      <th>Urbanización</th>\n",
       "      <th>Piscina en la urbanización</th>\n",
       "      <th>Ascensor</th>\n",
       "      <th>Garaje</th>\n",
       "      <th>Años antigüedad piso</th>\n",
       "      <th>Servicios incluidos</th>\n",
       "      <th>Accesibilidad</th>\n",
       "      <th>Años contrato alquiler</th>\n",
       "      <th>Precio alquiler al año</th>\n",
       "      <th>Gastos generales al año</th>\n",
       "      <th>Gastos iniciales</th>\n",
       "      <th>Beneficios totales</th>\n",
       "      <th>Precio alquiler aplicado al año</th>\n",
       "      <th>Casco viejo</th>\n",
       "      <th>Ensanche</th>\n",
       "      <th>Iturrama</th>\n",
       "      <th>Mendebaldea</th>\n",
       "      <th>Rochapea</th>\n",
       "      <th>Piso</th>\n",
       "      <th>N</th>\n",
       "      <th>S</th>\n",
       "      <th>E</th>\n",
       "      <th>W</th>\n",
       "      <th>Luz</th>\n",
       "      <th>Agua</th>\n",
       "      <th>Comunidad</th>\n",
       "      <th>Calefaccion</th>\n",
       "    </tr>\n",
       "    <tr>\n",
       "      <th>ID</th>\n",
       "      <th></th>\n",
       "      <th></th>\n",
       "      <th></th>\n",
       "      <th></th>\n",
       "      <th></th>\n",
       "      <th></th>\n",
       "      <th></th>\n",
       "      <th></th>\n",
       "      <th></th>\n",
       "      <th></th>\n",
       "      <th></th>\n",
       "      <th></th>\n",
       "      <th></th>\n",
       "      <th></th>\n",
       "      <th></th>\n",
       "      <th></th>\n",
       "      <th></th>\n",
       "      <th></th>\n",
       "      <th></th>\n",
       "      <th></th>\n",
       "      <th></th>\n",
       "      <th></th>\n",
       "      <th></th>\n",
       "      <th></th>\n",
       "      <th></th>\n",
       "      <th></th>\n",
       "      <th></th>\n",
       "      <th></th>\n",
       "      <th></th>\n",
       "      <th></th>\n",
       "      <th></th>\n",
       "      <th></th>\n",
       "      <th></th>\n",
       "      <th></th>\n",
       "      <th></th>\n",
       "      <th></th>\n",
       "    </tr>\n",
       "  </thead>\n",
       "  <tbody>\n",
       "    <tr>\n",
       "      <th>1</th>\n",
       "      <td>7</td>\n",
       "      <td>87.5</td>\n",
       "      <td>79.4</td>\n",
       "      <td>2</td>\n",
       "      <td>1.0</td>\n",
       "      <td>4</td>\n",
       "      <td>1</td>\n",
       "      <td>1</td>\n",
       "      <td>1</td>\n",
       "      <td>0</td>\n",
       "      <td>0</td>\n",
       "      <td>1</td>\n",
       "      <td>0</td>\n",
       "      <td>1</td>\n",
       "      <td>luz.agua</td>\n",
       "      <td>4</td>\n",
       "      <td>9</td>\n",
       "      <td>14060</td>\n",
       "      <td>1787</td>\n",
       "      <td>220</td>\n",
       "      <td>3196.814</td>\n",
       "      <td>16226.646</td>\n",
       "      <td>0</td>\n",
       "      <td>0</td>\n",
       "      <td>1</td>\n",
       "      <td>0</td>\n",
       "      <td>0</td>\n",
       "      <td>1</td>\n",
       "      <td>1</td>\n",
       "      <td>0</td>\n",
       "      <td>1</td>\n",
       "      <td>0</td>\n",
       "      <td>1</td>\n",
       "      <td>1</td>\n",
       "      <td>0</td>\n",
       "      <td>0</td>\n",
       "    </tr>\n",
       "    <tr>\n",
       "      <th>2</th>\n",
       "      <td>3</td>\n",
       "      <td>71.2</td>\n",
       "      <td>64.3</td>\n",
       "      <td>2</td>\n",
       "      <td>1.5</td>\n",
       "      <td>3</td>\n",
       "      <td>1</td>\n",
       "      <td>0</td>\n",
       "      <td>1</td>\n",
       "      <td>1</td>\n",
       "      <td>0</td>\n",
       "      <td>1</td>\n",
       "      <td>1</td>\n",
       "      <td>7</td>\n",
       "      <td>agua.comunidad</td>\n",
       "      <td>5</td>\n",
       "      <td>5</td>\n",
       "      <td>10525</td>\n",
       "      <td>1124</td>\n",
       "      <td>572</td>\n",
       "      <td>6227.500</td>\n",
       "      <td>13008.900</td>\n",
       "      <td>0</td>\n",
       "      <td>1</td>\n",
       "      <td>0</td>\n",
       "      <td>0</td>\n",
       "      <td>0</td>\n",
       "      <td>1</td>\n",
       "      <td>0</td>\n",
       "      <td>1</td>\n",
       "      <td>1</td>\n",
       "      <td>0</td>\n",
       "      <td>0</td>\n",
       "      <td>1</td>\n",
       "      <td>1</td>\n",
       "      <td>0</td>\n",
       "    </tr>\n",
       "    <tr>\n",
       "      <th>3</th>\n",
       "      <td>5</td>\n",
       "      <td>104.6</td>\n",
       "      <td>90.3</td>\n",
       "      <td>3</td>\n",
       "      <td>2.0</td>\n",
       "      <td>2</td>\n",
       "      <td>1</td>\n",
       "      <td>1</td>\n",
       "      <td>0</td>\n",
       "      <td>0</td>\n",
       "      <td>0</td>\n",
       "      <td>1</td>\n",
       "      <td>1</td>\n",
       "      <td>15</td>\n",
       "      <td>agua.luz.comunidad</td>\n",
       "      <td>3</td>\n",
       "      <td>4</td>\n",
       "      <td>18555</td>\n",
       "      <td>1512</td>\n",
       "      <td>2810</td>\n",
       "      <td>4160.112</td>\n",
       "      <td>21809.528</td>\n",
       "      <td>0</td>\n",
       "      <td>0</td>\n",
       "      <td>0</td>\n",
       "      <td>1</td>\n",
       "      <td>0</td>\n",
       "      <td>1</td>\n",
       "      <td>0</td>\n",
       "      <td>0</td>\n",
       "      <td>0</td>\n",
       "      <td>1</td>\n",
       "      <td>1</td>\n",
       "      <td>1</td>\n",
       "      <td>1</td>\n",
       "      <td>0</td>\n",
       "    </tr>\n",
       "    <tr>\n",
       "      <th>4</th>\n",
       "      <td>13</td>\n",
       "      <td>148.1</td>\n",
       "      <td>143.3</td>\n",
       "      <td>5</td>\n",
       "      <td>2.0</td>\n",
       "      <td>1</td>\n",
       "      <td>1</td>\n",
       "      <td>1</td>\n",
       "      <td>1</td>\n",
       "      <td>1</td>\n",
       "      <td>0</td>\n",
       "      <td>1</td>\n",
       "      <td>1</td>\n",
       "      <td>30</td>\n",
       "      <td>luz.agua.comunidad</td>\n",
       "      <td>2</td>\n",
       "      <td>10</td>\n",
       "      <td>24430</td>\n",
       "      <td>2625</td>\n",
       "      <td>7630</td>\n",
       "      <td>20183.590</td>\n",
       "      <td>29836.359</td>\n",
       "      <td>0</td>\n",
       "      <td>0</td>\n",
       "      <td>0</td>\n",
       "      <td>1</td>\n",
       "      <td>0</td>\n",
       "      <td>0</td>\n",
       "      <td>1</td>\n",
       "      <td>0</td>\n",
       "      <td>0</td>\n",
       "      <td>1</td>\n",
       "      <td>1</td>\n",
       "      <td>1</td>\n",
       "      <td>1</td>\n",
       "      <td>0</td>\n",
       "    </tr>\n",
       "    <tr>\n",
       "      <th>5</th>\n",
       "      <td>5</td>\n",
       "      <td>80.8</td>\n",
       "      <td>69.0</td>\n",
       "      <td>2</td>\n",
       "      <td>1.0</td>\n",
       "      <td>2</td>\n",
       "      <td>0</td>\n",
       "      <td>0</td>\n",
       "      <td>0</td>\n",
       "      <td>0</td>\n",
       "      <td>0</td>\n",
       "      <td>0</td>\n",
       "      <td>1</td>\n",
       "      <td>10</td>\n",
       "      <td>luz.comunidad</td>\n",
       "      <td>4</td>\n",
       "      <td>10</td>\n",
       "      <td>10565</td>\n",
       "      <td>1134</td>\n",
       "      <td>16440</td>\n",
       "      <td>-8424.920</td>\n",
       "      <td>12500.508</td>\n",
       "      <td>0</td>\n",
       "      <td>0</td>\n",
       "      <td>0</td>\n",
       "      <td>0</td>\n",
       "      <td>1</td>\n",
       "      <td>1</td>\n",
       "      <td>0</td>\n",
       "      <td>0</td>\n",
       "      <td>1</td>\n",
       "      <td>0</td>\n",
       "      <td>1</td>\n",
       "      <td>0</td>\n",
       "      <td>1</td>\n",
       "      <td>0</td>\n",
       "    </tr>\n",
       "  </tbody>\n",
       "</table>\n",
       "</div>"
      ],
      "text/plain": [
       "    Planta  Metros cuadrados totales  Metros cuadrados habitables  \\\n",
       "ID                                                                  \n",
       "1        7                      87.5                         79.4   \n",
       "2        3                      71.2                         64.3   \n",
       "3        5                     104.6                         90.3   \n",
       "4       13                     148.1                        143.3   \n",
       "5        5                      80.8                         69.0   \n",
       "\n",
       "    Numero habitaciones  Numero baños  Estado piso  Amueblado  Terraza  \\\n",
       "ID                                                                       \n",
       "1                     2           1.0            4          1        1   \n",
       "2                     2           1.5            3          1        0   \n",
       "3                     3           2.0            2          1        1   \n",
       "4                     5           2.0            1          1        1   \n",
       "5                     2           1.0            2          0        0   \n",
       "\n",
       "    Aire acondicionado  Urbanización  Piscina en la urbanización  Ascensor  \\\n",
       "ID                                                                           \n",
       "1                    1             0                           0         1   \n",
       "2                    1             1                           0         1   \n",
       "3                    0             0                           0         1   \n",
       "4                    1             1                           0         1   \n",
       "5                    0             0                           0         0   \n",
       "\n",
       "    Garaje  Años antigüedad piso Servicios incluidos  Accesibilidad  \\\n",
       "ID                                                                    \n",
       "1        0                     1            luz.agua              4   \n",
       "2        1                     7      agua.comunidad              5   \n",
       "3        1                    15  agua.luz.comunidad              3   \n",
       "4        1                    30  luz.agua.comunidad              2   \n",
       "5        1                    10       luz.comunidad              4   \n",
       "\n",
       "    Años contrato alquiler  Precio alquiler al año  Gastos generales al año  \\\n",
       "ID                                                                            \n",
       "1                        9                   14060                     1787   \n",
       "2                        5                   10525                     1124   \n",
       "3                        4                   18555                     1512   \n",
       "4                       10                   24430                     2625   \n",
       "5                       10                   10565                     1134   \n",
       "\n",
       "    Gastos iniciales  Beneficios totales  Precio alquiler aplicado al año  \\\n",
       "ID                                                                          \n",
       "1                220            3196.814                        16226.646   \n",
       "2                572            6227.500                        13008.900   \n",
       "3               2810            4160.112                        21809.528   \n",
       "4               7630           20183.590                        29836.359   \n",
       "5              16440           -8424.920                        12500.508   \n",
       "\n",
       "    Casco viejo  Ensanche  Iturrama  Mendebaldea  Rochapea  Piso  N  S  E  W  \\\n",
       "ID                                                                             \n",
       "1             0         0         1            0         0     1  1  0  1  0   \n",
       "2             0         1         0            0         0     1  0  1  1  0   \n",
       "3             0         0         0            1         0     1  0  0  0  1   \n",
       "4             0         0         0            1         0     0  1  0  0  1   \n",
       "5             0         0         0            0         1     1  0  0  1  0   \n",
       "\n",
       "    Luz  Agua  Comunidad  Calefaccion  \n",
       "ID                                     \n",
       "1     1     1          0            0  \n",
       "2     0     1          1            0  \n",
       "3     1     1          1            0  \n",
       "4     1     1          1            0  \n",
       "5     1     0          1            0  "
      ]
     },
     "execution_count": 625,
     "metadata": {},
     "output_type": "execute_result"
    }
   ],
   "source": [
    "dataset.head(5)"
   ]
  },
  {
   "cell_type": "code",
   "execution_count": 626,
   "metadata": {},
   "outputs": [],
   "source": [
    "dataset = dataset.drop('Servicios incluidos', axis=1)"
   ]
  },
  {
   "cell_type": "code",
   "execution_count": 627,
   "metadata": {},
   "outputs": [
    {
     "data": {
      "text/plain": [
       "Luz  Agua  Comunidad  Calefaccion\n",
       "0    0     0          0              113\n",
       "     1     1          0               35\n",
       "           0          1               15\n",
       "1    0     1          0               11\n",
       "     1     1          0                4\n",
       "0    1     0          0                1\n",
       "1    1     0          0                1\n",
       "Name: count, dtype: int64"
      ]
     },
     "execution_count": 627,
     "metadata": {},
     "output_type": "execute_result"
    }
   ],
   "source": [
    "dataset[['Luz', 'Agua', 'Comunidad', 'Calefaccion']].value_counts()"
   ]
  },
  {
   "cell_type": "markdown",
   "metadata": {},
   "source": [
    "---\n",
    "19) Accesibilidad: int (nota del 0, en nuestro caso solo hay los siguientes valores: 3,4,5) "
   ]
  },
  {
   "cell_type": "code",
   "execution_count": 628,
   "metadata": {},
   "outputs": [
    {
     "data": {
      "text/plain": [
       "Accesibilidad\n",
       "4    91\n",
       "5    55\n",
       "3    33\n",
       "2     1\n",
       "Name: count, dtype: int64"
      ]
     },
     "execution_count": 628,
     "metadata": {},
     "output_type": "execute_result"
    }
   ],
   "source": [
    "dataset['Accesibilidad'].value_counts()"
   ]
  },
  {
   "cell_type": "markdown",
   "metadata": {},
   "source": [
    "---\n",
    "20) Años contrato alquiler: int"
   ]
  },
  {
   "cell_type": "code",
   "execution_count": 629,
   "metadata": {},
   "outputs": [
    {
     "data": {
      "text/plain": [
       "Años contrato alquiler\n",
       "5     24\n",
       "10    20\n",
       "9     19\n",
       "11    19\n",
       "7     18\n",
       "8     17\n",
       "6     13\n",
       "4      9\n",
       "12     8\n",
       "14     6\n",
       "19     6\n",
       "13     5\n",
       "18     4\n",
       "15     4\n",
       "16     3\n",
       "17     3\n",
       "20     2\n",
       "Name: count, dtype: int64"
      ]
     },
     "execution_count": 629,
     "metadata": {},
     "output_type": "execute_result"
    }
   ],
   "source": [
    "dataset['Años contrato alquiler'].value_counts()"
   ]
  },
  {
   "cell_type": "markdown",
   "metadata": {},
   "source": [
    "---\n",
    "---\n",
    "21) Precio alquiler al año: float"
   ]
  },
  {
   "cell_type": "code",
   "execution_count": 631,
   "metadata": {},
   "outputs": [
    {
     "name": "stdout",
     "output_type": "stream",
     "text": [
      "9925.0\n",
      "27570.0\n"
     ]
    }
   ],
   "source": [
    "print(dataset['Precio alquiler al año'].min())\n",
    "print(dataset['Precio alquiler al año'].max())"
   ]
  },
  {
   "cell_type": "markdown",
   "metadata": {},
   "source": [
    "---\n",
    "22) Gastos generales al año: float"
   ]
  },
  {
   "cell_type": "code",
   "execution_count": 633,
   "metadata": {},
   "outputs": [
    {
     "name": "stdout",
     "output_type": "stream",
     "text": [
      "1039.0\n",
      "2625.0\n"
     ]
    }
   ],
   "source": [
    "print(dataset['Gastos generales al año'].min())\n",
    "print(dataset['Gastos generales al año'].max())"
   ]
  },
  {
   "cell_type": "markdown",
   "metadata": {},
   "source": [
    "---\n",
    "23) Gastos iniciales: float"
   ]
  },
  {
   "cell_type": "code",
   "execution_count": 635,
   "metadata": {},
   "outputs": [
    {
     "name": "stdout",
     "output_type": "stream",
     "text": [
      "30.0\n",
      "26050.0\n"
     ]
    }
   ],
   "source": [
    "print(dataset['Gastos iniciales'].min())\n",
    "print(dataset['Gastos iniciales'].max())"
   ]
  },
  {
   "cell_type": "markdown",
   "metadata": {},
   "source": [
    "---\n",
    "24) Beneficios totales: float"
   ]
  },
  {
   "cell_type": "code",
   "execution_count": 636,
   "metadata": {},
   "outputs": [
    {
     "name": "stdout",
     "output_type": "stream",
     "text": [
      "-22074.41250000001\n",
      "62355.59199999995\n"
     ]
    }
   ],
   "source": [
    "print(dataset['Beneficios totales'].min())\n",
    "print(dataset['Beneficios totales'].max())"
   ]
  },
  {
   "cell_type": "markdown",
   "metadata": {},
   "source": [
    "---\n",
    "Añadimos una nueva columna que van a ser los beneficios al año que calcularemos:\n",
    "\n",
    "Beneficios al año = Beneficios totales / años contrato\n",
    "\n",
    "25) Beneficios al año: float"
   ]
  },
  {
   "cell_type": "code",
   "execution_count": 637,
   "metadata": {},
   "outputs": [],
   "source": [
    "def beneficios_al_ano(row):\n",
    "    benef = row['Beneficios totales']\n",
    "    anos = row['Años contrato alquiler']\n",
    "    return benef/anos"
   ]
  },
  {
   "cell_type": "code",
   "execution_count": 638,
   "metadata": {},
   "outputs": [],
   "source": [
    "dataset['Beneficios al año'] = dataset.apply(beneficios_al_ano, axis=1)"
   ]
  },
  {
   "cell_type": "markdown",
   "metadata": {},
   "source": [
    "---\n",
    "---\n",
    "GUARDAR DATASET\n",
    "---\n",
    "---"
   ]
  },
  {
   "cell_type": "code",
   "execution_count": 639,
   "metadata": {},
   "outputs": [],
   "source": [
    "etiquetas_dataset = dataset[['Precio alquiler al año', 'Gastos generales al año', 'Gastos iniciales', 'Beneficios totales', 'Beneficios al año', 'Precio alquiler aplicado al año']]\n",
    "dataset = dataset.drop(['Precio alquiler al año', 'Gastos generales al año', 'Gastos iniciales', 'Beneficios totales', 'Beneficios al año', 'Precio alquiler aplicado al año'], axis=1)"
   ]
  },
  {
   "cell_type": "code",
   "execution_count": 640,
   "metadata": {},
   "outputs": [],
   "source": [
    "dataset = pd.concat([dataset, etiquetas_dataset], axis=1)"
   ]
  },
  {
   "cell_type": "code",
   "execution_count": 641,
   "metadata": {},
   "outputs": [
    {
     "data": {
      "text/html": [
       "<div>\n",
       "<style scoped>\n",
       "    .dataframe tbody tr th:only-of-type {\n",
       "        vertical-align: middle;\n",
       "    }\n",
       "\n",
       "    .dataframe tbody tr th {\n",
       "        vertical-align: top;\n",
       "    }\n",
       "\n",
       "    .dataframe thead th {\n",
       "        text-align: right;\n",
       "    }\n",
       "</style>\n",
       "<table border=\"1\" class=\"dataframe\">\n",
       "  <thead>\n",
       "    <tr style=\"text-align: right;\">\n",
       "      <th></th>\n",
       "      <th>Planta</th>\n",
       "      <th>Metros cuadrados totales</th>\n",
       "      <th>Metros cuadrados habitables</th>\n",
       "      <th>Numero habitaciones</th>\n",
       "      <th>Numero baños</th>\n",
       "      <th>Estado piso</th>\n",
       "      <th>Amueblado</th>\n",
       "      <th>Terraza</th>\n",
       "      <th>Aire acondicionado</th>\n",
       "      <th>Urbanización</th>\n",
       "      <th>Piscina en la urbanización</th>\n",
       "      <th>Ascensor</th>\n",
       "      <th>Garaje</th>\n",
       "      <th>Años antigüedad piso</th>\n",
       "      <th>Accesibilidad</th>\n",
       "      <th>Años contrato alquiler</th>\n",
       "      <th>Casco viejo</th>\n",
       "      <th>Ensanche</th>\n",
       "      <th>Iturrama</th>\n",
       "      <th>Mendebaldea</th>\n",
       "      <th>Rochapea</th>\n",
       "      <th>Piso</th>\n",
       "      <th>N</th>\n",
       "      <th>S</th>\n",
       "      <th>E</th>\n",
       "      <th>W</th>\n",
       "      <th>Luz</th>\n",
       "      <th>Agua</th>\n",
       "      <th>Comunidad</th>\n",
       "      <th>Calefaccion</th>\n",
       "      <th>Precio alquiler al año</th>\n",
       "      <th>Gastos generales al año</th>\n",
       "      <th>Gastos iniciales</th>\n",
       "      <th>Beneficios totales</th>\n",
       "      <th>Beneficios al año</th>\n",
       "      <th>Precio alquiler aplicado al año</th>\n",
       "    </tr>\n",
       "    <tr>\n",
       "      <th>ID</th>\n",
       "      <th></th>\n",
       "      <th></th>\n",
       "      <th></th>\n",
       "      <th></th>\n",
       "      <th></th>\n",
       "      <th></th>\n",
       "      <th></th>\n",
       "      <th></th>\n",
       "      <th></th>\n",
       "      <th></th>\n",
       "      <th></th>\n",
       "      <th></th>\n",
       "      <th></th>\n",
       "      <th></th>\n",
       "      <th></th>\n",
       "      <th></th>\n",
       "      <th></th>\n",
       "      <th></th>\n",
       "      <th></th>\n",
       "      <th></th>\n",
       "      <th></th>\n",
       "      <th></th>\n",
       "      <th></th>\n",
       "      <th></th>\n",
       "      <th></th>\n",
       "      <th></th>\n",
       "      <th></th>\n",
       "      <th></th>\n",
       "      <th></th>\n",
       "      <th></th>\n",
       "      <th></th>\n",
       "      <th></th>\n",
       "      <th></th>\n",
       "      <th></th>\n",
       "      <th></th>\n",
       "      <th></th>\n",
       "    </tr>\n",
       "  </thead>\n",
       "  <tbody>\n",
       "    <tr>\n",
       "      <th>1</th>\n",
       "      <td>7</td>\n",
       "      <td>87.5</td>\n",
       "      <td>79.4</td>\n",
       "      <td>2</td>\n",
       "      <td>1.0</td>\n",
       "      <td>4</td>\n",
       "      <td>1</td>\n",
       "      <td>1</td>\n",
       "      <td>1</td>\n",
       "      <td>0</td>\n",
       "      <td>0</td>\n",
       "      <td>1</td>\n",
       "      <td>0</td>\n",
       "      <td>1</td>\n",
       "      <td>4</td>\n",
       "      <td>9</td>\n",
       "      <td>0</td>\n",
       "      <td>0</td>\n",
       "      <td>1</td>\n",
       "      <td>0</td>\n",
       "      <td>0</td>\n",
       "      <td>1</td>\n",
       "      <td>1</td>\n",
       "      <td>0</td>\n",
       "      <td>1</td>\n",
       "      <td>0</td>\n",
       "      <td>1</td>\n",
       "      <td>1</td>\n",
       "      <td>0</td>\n",
       "      <td>0</td>\n",
       "      <td>14060.0</td>\n",
       "      <td>1787.0</td>\n",
       "      <td>220.0</td>\n",
       "      <td>3196.814</td>\n",
       "      <td>355.201556</td>\n",
       "      <td>16226.646</td>\n",
       "    </tr>\n",
       "    <tr>\n",
       "      <th>2</th>\n",
       "      <td>3</td>\n",
       "      <td>71.2</td>\n",
       "      <td>64.3</td>\n",
       "      <td>2</td>\n",
       "      <td>1.5</td>\n",
       "      <td>3</td>\n",
       "      <td>1</td>\n",
       "      <td>0</td>\n",
       "      <td>1</td>\n",
       "      <td>1</td>\n",
       "      <td>0</td>\n",
       "      <td>1</td>\n",
       "      <td>1</td>\n",
       "      <td>7</td>\n",
       "      <td>5</td>\n",
       "      <td>5</td>\n",
       "      <td>0</td>\n",
       "      <td>1</td>\n",
       "      <td>0</td>\n",
       "      <td>0</td>\n",
       "      <td>0</td>\n",
       "      <td>1</td>\n",
       "      <td>0</td>\n",
       "      <td>1</td>\n",
       "      <td>1</td>\n",
       "      <td>0</td>\n",
       "      <td>0</td>\n",
       "      <td>1</td>\n",
       "      <td>1</td>\n",
       "      <td>0</td>\n",
       "      <td>10525.0</td>\n",
       "      <td>1124.0</td>\n",
       "      <td>572.0</td>\n",
       "      <td>6227.500</td>\n",
       "      <td>1245.500000</td>\n",
       "      <td>13008.900</td>\n",
       "    </tr>\n",
       "    <tr>\n",
       "      <th>3</th>\n",
       "      <td>5</td>\n",
       "      <td>104.6</td>\n",
       "      <td>90.3</td>\n",
       "      <td>3</td>\n",
       "      <td>2.0</td>\n",
       "      <td>2</td>\n",
       "      <td>1</td>\n",
       "      <td>1</td>\n",
       "      <td>0</td>\n",
       "      <td>0</td>\n",
       "      <td>0</td>\n",
       "      <td>1</td>\n",
       "      <td>1</td>\n",
       "      <td>15</td>\n",
       "      <td>3</td>\n",
       "      <td>4</td>\n",
       "      <td>0</td>\n",
       "      <td>0</td>\n",
       "      <td>0</td>\n",
       "      <td>1</td>\n",
       "      <td>0</td>\n",
       "      <td>1</td>\n",
       "      <td>0</td>\n",
       "      <td>0</td>\n",
       "      <td>0</td>\n",
       "      <td>1</td>\n",
       "      <td>1</td>\n",
       "      <td>1</td>\n",
       "      <td>1</td>\n",
       "      <td>0</td>\n",
       "      <td>18555.0</td>\n",
       "      <td>1512.0</td>\n",
       "      <td>2810.0</td>\n",
       "      <td>4160.112</td>\n",
       "      <td>1040.028000</td>\n",
       "      <td>21809.528</td>\n",
       "    </tr>\n",
       "    <tr>\n",
       "      <th>4</th>\n",
       "      <td>13</td>\n",
       "      <td>148.1</td>\n",
       "      <td>143.3</td>\n",
       "      <td>5</td>\n",
       "      <td>2.0</td>\n",
       "      <td>1</td>\n",
       "      <td>1</td>\n",
       "      <td>1</td>\n",
       "      <td>1</td>\n",
       "      <td>1</td>\n",
       "      <td>0</td>\n",
       "      <td>1</td>\n",
       "      <td>1</td>\n",
       "      <td>30</td>\n",
       "      <td>2</td>\n",
       "      <td>10</td>\n",
       "      <td>0</td>\n",
       "      <td>0</td>\n",
       "      <td>0</td>\n",
       "      <td>1</td>\n",
       "      <td>0</td>\n",
       "      <td>0</td>\n",
       "      <td>1</td>\n",
       "      <td>0</td>\n",
       "      <td>0</td>\n",
       "      <td>1</td>\n",
       "      <td>1</td>\n",
       "      <td>1</td>\n",
       "      <td>1</td>\n",
       "      <td>0</td>\n",
       "      <td>24430.0</td>\n",
       "      <td>2625.0</td>\n",
       "      <td>7630.0</td>\n",
       "      <td>20183.590</td>\n",
       "      <td>2018.359000</td>\n",
       "      <td>29836.359</td>\n",
       "    </tr>\n",
       "    <tr>\n",
       "      <th>5</th>\n",
       "      <td>5</td>\n",
       "      <td>80.8</td>\n",
       "      <td>69.0</td>\n",
       "      <td>2</td>\n",
       "      <td>1.0</td>\n",
       "      <td>2</td>\n",
       "      <td>0</td>\n",
       "      <td>0</td>\n",
       "      <td>0</td>\n",
       "      <td>0</td>\n",
       "      <td>0</td>\n",
       "      <td>0</td>\n",
       "      <td>1</td>\n",
       "      <td>10</td>\n",
       "      <td>4</td>\n",
       "      <td>10</td>\n",
       "      <td>0</td>\n",
       "      <td>0</td>\n",
       "      <td>0</td>\n",
       "      <td>0</td>\n",
       "      <td>1</td>\n",
       "      <td>1</td>\n",
       "      <td>0</td>\n",
       "      <td>0</td>\n",
       "      <td>1</td>\n",
       "      <td>0</td>\n",
       "      <td>1</td>\n",
       "      <td>0</td>\n",
       "      <td>1</td>\n",
       "      <td>0</td>\n",
       "      <td>10565.0</td>\n",
       "      <td>1134.0</td>\n",
       "      <td>16440.0</td>\n",
       "      <td>-8424.920</td>\n",
       "      <td>-842.492000</td>\n",
       "      <td>12500.508</td>\n",
       "    </tr>\n",
       "  </tbody>\n",
       "</table>\n",
       "</div>"
      ],
      "text/plain": [
       "    Planta  Metros cuadrados totales  Metros cuadrados habitables  \\\n",
       "ID                                                                  \n",
       "1        7                      87.5                         79.4   \n",
       "2        3                      71.2                         64.3   \n",
       "3        5                     104.6                         90.3   \n",
       "4       13                     148.1                        143.3   \n",
       "5        5                      80.8                         69.0   \n",
       "\n",
       "    Numero habitaciones  Numero baños  Estado piso  Amueblado  Terraza  \\\n",
       "ID                                                                       \n",
       "1                     2           1.0            4          1        1   \n",
       "2                     2           1.5            3          1        0   \n",
       "3                     3           2.0            2          1        1   \n",
       "4                     5           2.0            1          1        1   \n",
       "5                     2           1.0            2          0        0   \n",
       "\n",
       "    Aire acondicionado  Urbanización  Piscina en la urbanización  Ascensor  \\\n",
       "ID                                                                           \n",
       "1                    1             0                           0         1   \n",
       "2                    1             1                           0         1   \n",
       "3                    0             0                           0         1   \n",
       "4                    1             1                           0         1   \n",
       "5                    0             0                           0         0   \n",
       "\n",
       "    Garaje  Años antigüedad piso  Accesibilidad  Años contrato alquiler  \\\n",
       "ID                                                                        \n",
       "1        0                     1              4                       9   \n",
       "2        1                     7              5                       5   \n",
       "3        1                    15              3                       4   \n",
       "4        1                    30              2                      10   \n",
       "5        1                    10              4                      10   \n",
       "\n",
       "    Casco viejo  Ensanche  Iturrama  Mendebaldea  Rochapea  Piso  N  S  E  W  \\\n",
       "ID                                                                             \n",
       "1             0         0         1            0         0     1  1  0  1  0   \n",
       "2             0         1         0            0         0     1  0  1  1  0   \n",
       "3             0         0         0            1         0     1  0  0  0  1   \n",
       "4             0         0         0            1         0     0  1  0  0  1   \n",
       "5             0         0         0            0         1     1  0  0  1  0   \n",
       "\n",
       "    Luz  Agua  Comunidad  Calefaccion  Precio alquiler al año  \\\n",
       "ID                                                              \n",
       "1     1     1          0            0                 14060.0   \n",
       "2     0     1          1            0                 10525.0   \n",
       "3     1     1          1            0                 18555.0   \n",
       "4     1     1          1            0                 24430.0   \n",
       "5     1     0          1            0                 10565.0   \n",
       "\n",
       "    Gastos generales al año  Gastos iniciales  Beneficios totales  \\\n",
       "ID                                                                  \n",
       "1                    1787.0             220.0            3196.814   \n",
       "2                    1124.0             572.0            6227.500   \n",
       "3                    1512.0            2810.0            4160.112   \n",
       "4                    2625.0            7630.0           20183.590   \n",
       "5                    1134.0           16440.0           -8424.920   \n",
       "\n",
       "    Beneficios al año  Precio alquiler aplicado al año  \n",
       "ID                                                      \n",
       "1          355.201556                        16226.646  \n",
       "2         1245.500000                        13008.900  \n",
       "3         1040.028000                        21809.528  \n",
       "4         2018.359000                        29836.359  \n",
       "5         -842.492000                        12500.508  "
      ]
     },
     "execution_count": 641,
     "metadata": {},
     "output_type": "execute_result"
    }
   ],
   "source": [
    "dataset.head(5)"
   ]
  },
  {
   "cell_type": "code",
   "execution_count": 642,
   "metadata": {},
   "outputs": [
    {
     "data": {
      "text/plain": [
       "(180, 36)"
      ]
     },
     "execution_count": 642,
     "metadata": {},
     "output_type": "execute_result"
    }
   ],
   "source": [
    "dataset.shape"
   ]
  },
  {
   "cell_type": "code",
   "execution_count": 643,
   "metadata": {},
   "outputs": [],
   "source": [
    "dir_exc = '../data/pisos_datos_numericos.xlsx'\n",
    "dir_csv = '../data/pisos_datos_numericos.csv'\n",
    "\n",
    "dataset.to_csv(dir_csv, index=True)\n",
    "dataset.to_excel(dir_exc, index=True)"
   ]
  }
 ],
 "metadata": {
  "kernelspec": {
   "display_name": "Python 3",
   "language": "python",
   "name": "python3"
  },
  "language_info": {
   "codemirror_mode": {
    "name": "ipython",
    "version": 3
   },
   "file_extension": ".py",
   "mimetype": "text/x-python",
   "name": "python",
   "nbconvert_exporter": "python",
   "pygments_lexer": "ipython3",
   "version": "3.11.4"
  }
 },
 "nbformat": 4,
 "nbformat_minor": 2
}
